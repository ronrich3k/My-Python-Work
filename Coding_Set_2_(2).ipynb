{
  "cells": [
    {
      "cell_type": "markdown",
      "metadata": {
        "id": "view-in-github",
        "colab_type": "text"
      },
      "source": [
        "<a href=\"https://colab.research.google.com/github/ronrich3k/My-Python-Work/blob/main/Coding_Set_2_(2).ipynb\" target=\"_parent\"><img src=\"https://colab.research.google.com/assets/colab-badge.svg\" alt=\"Open In Colab\"/></a>"
      ]
    },
    {
      "cell_type": "markdown",
      "id": "86e1810b-8aca-4a46-b5d1-3b0e98adfc57",
      "metadata": {
        "id": "86e1810b-8aca-4a46-b5d1-3b0e98adfc57"
      },
      "source": [
        "#Chapter 2 Exercises"
      ]
    },
    {
      "cell_type": "markdown",
      "id": "5f51d714-a377-45e6-aac9-2033661f3dcd",
      "metadata": {
        "id": "5f51d714-a377-45e6-aac9-2033661f3dcd"
      },
      "source": [
        "## Algorithm Workbench - Number 6"
      ]
    },
    {
      "cell_type": "code",
      "execution_count": null,
      "id": "72c69db0-b52e-4c43-ad06-95eba6c70c74",
      "metadata": {
        "id": "72c69db0-b52e-4c43-ad06-95eba6c70c74"
      },
      "outputs": [],
      "source": [
        "#question number 6 asks for a statement to be written that subtracts the variable \"down_payment\" from \"total\" and assigns the result to \"due\""
      ]
    },
    {
      "cell_type": "code",
      "execution_count": null,
      "id": "32241dd1-760e-420c-b39c-513a59f70506",
      "metadata": {
        "id": "32241dd1-760e-420c-b39c-513a59f70506"
      },
      "outputs": [],
      "source": [
        "down_payment = 2000"
      ]
    },
    {
      "cell_type": "code",
      "execution_count": null,
      "id": "d7a09743-151c-4729-a281-25c672b81f0b",
      "metadata": {
        "id": "d7a09743-151c-4729-a281-25c672b81f0b"
      },
      "outputs": [],
      "source": [
        "total = 37599 # assigning my variables values"
      ]
    },
    {
      "cell_type": "code",
      "execution_count": null,
      "id": "eb5a36f1-d796-46b5-9b4b-494319406dd2",
      "metadata": {
        "id": "eb5a36f1-d796-46b5-9b4b-494319406dd2"
      },
      "outputs": [],
      "source": [
        "due = total - down_payment # this will be the sum total displayed or \"due\""
      ]
    },
    {
      "cell_type": "code",
      "execution_count": null,
      "id": "dcca9696-b8a1-48a8-a356-6d4fa1f13a15",
      "metadata": {
        "id": "dcca9696-b8a1-48a8-a356-6d4fa1f13a15"
      },
      "outputs": [],
      "source": [
        "# I can now use the print function to show my variable \"due\""
      ]
    },
    {
      "cell_type": "code",
      "execution_count": null,
      "id": "5fdf7d73-c43a-4007-a62a-921eb6cdc677",
      "metadata": {
        "id": "5fdf7d73-c43a-4007-a62a-921eb6cdc677",
        "outputId": "e6a7bd4e-aff3-493c-b21a-3a89e0cac017"
      },
      "outputs": [
        {
          "name": "stdout",
          "output_type": "stream",
          "text": [
            "The final price you will be paying is 35599\n"
          ]
        }
      ],
      "source": [
        "print ('The final price you will be paying is', due) # Final result"
      ]
    },
    {
      "cell_type": "markdown",
      "id": "71daba06-34f5-456f-aba5-6a96e51808f5",
      "metadata": {
        "id": "71daba06-34f5-456f-aba5-6a96e51808f5"
      },
      "source": []
    },
    {
      "cell_type": "markdown",
      "id": "9963cd52-2da2-498c-b9b2-83c63d3c1ef7",
      "metadata": {
        "id": "9963cd52-2da2-498c-b9b2-83c63d3c1ef7"
      },
      "source": []
    },
    {
      "cell_type": "markdown",
      "id": "cad4c178-bbc9-4ab3-9349-c96ad11eb324",
      "metadata": {
        "id": "cad4c178-bbc9-4ab3-9349-c96ad11eb324"
      },
      "source": [
        "## Progamming Exercises - Number 7"
      ]
    },
    {
      "cell_type": "code",
      "execution_count": null,
      "id": "41e3bf69-2b28-4807-96e9-a1c2415e5d8f",
      "metadata": {
        "id": "41e3bf69-2b28-4807-96e9-a1c2415e5d8f"
      },
      "outputs": [],
      "source": [
        "# The question asks to write a program that asks the user for the number of miles driven and gallons of gas used and calculates the car's MPG and displays the result."
      ]
    },
    {
      "cell_type": "code",
      "execution_count": null,
      "id": "b4d33911-26af-4d90-b51a-0da831f044ea",
      "metadata": {
        "id": "b4d33911-26af-4d90-b51a-0da831f044ea"
      },
      "outputs": [],
      "source": [
        "# The formula is MPG = M / G. Miles Per Gallon = Miles driven divided by Gallons of gas used"
      ]
    },
    {
      "cell_type": "code",
      "execution_count": null,
      "id": "34eb7471-64a5-4ad6-b97a-7ff73fce7648",
      "metadata": {
        "id": "34eb7471-64a5-4ad6-b97a-7ff73fce7648",
        "outputId": "06c95577-bcaf-404f-dcf4-47853ae79ae1"
      },
      "outputs": [
        {
          "name": "stdin",
          "output_type": "stream",
          "text": [
            "Enter Miles Driven:  2800\n"
          ]
        }
      ],
      "source": [
        "num1 = int(input(\"Enter Miles Driven: \") ) # Taking user input as int for \"num1\""
      ]
    },
    {
      "cell_type": "code",
      "execution_count": null,
      "id": "8e3bcef3-fb3b-43ff-98fd-769e5861f244",
      "metadata": {
        "id": "8e3bcef3-fb3b-43ff-98fd-769e5861f244",
        "outputId": "25871933-be27-47b1-8452-774d817ce04f"
      },
      "outputs": [
        {
          "name": "stdin",
          "output_type": "stream",
          "text": [
            "Enter Gallons of Gas Used 27\n"
          ]
        }
      ],
      "source": [
        "num2 = int(input(\"Enter Gallons of Gas Used\") ) # Taking user input as int for \"num2\""
      ]
    },
    {
      "cell_type": "code",
      "execution_count": null,
      "id": "778318e6-a76c-4f57-86cf-33936b2cf3f7",
      "metadata": {
        "id": "778318e6-a76c-4f57-86cf-33936b2cf3f7"
      },
      "outputs": [],
      "source": [
        "# I then divide \"num1\" from \"num2\""
      ]
    },
    {
      "cell_type": "code",
      "execution_count": null,
      "id": "195c36a8-cb76-4296-8e3b-321314eb755e",
      "metadata": {
        "id": "195c36a8-cb76-4296-8e3b-321314eb755e"
      },
      "outputs": [],
      "source": [
        "MPG = num1 / num2"
      ]
    },
    {
      "cell_type": "code",
      "execution_count": null,
      "id": "03061df4-82c3-47aa-94e1-00ca5ca91727",
      "metadata": {
        "id": "03061df4-82c3-47aa-94e1-00ca5ca91727",
        "outputId": "13f374c8-df31-4bcd-89f7-a16040fa455d"
      },
      "outputs": [
        {
          "name": "stdout",
          "output_type": "stream",
          "text": [
            "Your Miles Per Gallon Are: 103.70370370370371\n"
          ]
        }
      ],
      "source": [
        "print('Your Miles Per Gallon Are:', MPG)"
      ]
    },
    {
      "cell_type": "code",
      "execution_count": null,
      "id": "264b890c-ec5f-42f6-a403-2e3e5d64bf57",
      "metadata": {
        "id": "264b890c-ec5f-42f6-a403-2e3e5d64bf57"
      },
      "outputs": [],
      "source": [
        "#Your Miles Per Gallon are now showed!"
      ]
    },
    {
      "cell_type": "markdown",
      "id": "483e26d8-50a2-4d3f-adcf-8aa48afb5a05",
      "metadata": {
        "id": "483e26d8-50a2-4d3f-adcf-8aa48afb5a05"
      },
      "source": []
    },
    {
      "cell_type": "markdown",
      "id": "5e9266b9-06f7-409a-98f1-8426c6b82a4f",
      "metadata": {
        "id": "5e9266b9-06f7-409a-98f1-8426c6b82a4f"
      },
      "source": []
    },
    {
      "cell_type": "markdown",
      "id": "dedae0a0-4b97-401b-9b31-9625a686e30a",
      "metadata": {
        "id": "dedae0a0-4b97-401b-9b31-9625a686e30a"
      },
      "source": [
        "## Programming Exercises - Number 13"
      ]
    },
    {
      "cell_type": "markdown",
      "id": "bcde40e1-ceee-4695-8e30-230da4650d7f",
      "metadata": {
        "id": "bcde40e1-ceee-4695-8e30-230da4650d7f"
      },
      "source": [
        "# Planting Grapevines"
      ]
    },
    {
      "cell_type": "code",
      "execution_count": null,
      "id": "920697b3-ba9f-4561-95cb-6a877557f4eb",
      "metadata": {
        "id": "920697b3-ba9f-4561-95cb-6a877557f4eb"
      },
      "outputs": [],
      "source": [
        "# The formula for figuring out how many grapevines to plant in a row is as follows: V = (R-2E) / S\n",
        "# V is the total number of grapevines, R is the length of the row, in feet. E is the amount of space , in feet, used by an end-pot assembly, and S is the space in between vines, in feet."
      ]
    },
    {
      "cell_type": "code",
      "execution_count": null,
      "id": "1c701789-3a4c-45f0-9682-948ef369a857",
      "metadata": {
        "id": "1c701789-3a4c-45f0-9682-948ef369a857",
        "outputId": "5c1b7267-7fe3-47b5-be23-b95311034bf9"
      },
      "outputs": [
        {
          "name": "stdin",
          "output_type": "stream",
          "text": [
            "Enter Length of Row In Feet 25\n"
          ]
        }
      ],
      "source": [
        "R = int(input(\"Enter Length of Row In Feet\") ) # user input of length value"
      ]
    },
    {
      "cell_type": "code",
      "execution_count": null,
      "id": "e7e35371-8686-4b39-8ab3-a3300fcc27e3",
      "metadata": {
        "id": "e7e35371-8686-4b39-8ab3-a3300fcc27e3",
        "outputId": "89cb532a-625d-4fa1-d47f-83db74a449ab"
      },
      "outputs": [
        {
          "name": "stdin",
          "output_type": "stream",
          "text": [
            "Enter End-Post Assebmly Size, in Feet 2\n"
          ]
        }
      ],
      "source": [
        "E = int(input(\"Enter End-Post Assebmly Size, in Feet\") ) # user input of end post size"
      ]
    },
    {
      "cell_type": "code",
      "execution_count": null,
      "id": "6f7d8365-9982-47a4-9f5d-115d105e5d47",
      "metadata": {
        "id": "6f7d8365-9982-47a4-9f5d-115d105e5d47",
        "outputId": "8f14274e-6ca2-40e0-d743-a21fefec3079"
      },
      "outputs": [
        {
          "name": "stdin",
          "output_type": "stream",
          "text": [
            "Enter Space Between Vine, in Feet 2\n"
          ]
        }
      ],
      "source": [
        "S = int(input(\"Enter Space Between Vine, in Feet\") ) #user input of space between vines"
      ]
    },
    {
      "cell_type": "code",
      "execution_count": null,
      "id": "1a3b4005-ebbb-4763-854b-84f7176adb6f",
      "metadata": {
        "id": "1a3b4005-ebbb-4763-854b-84f7176adb6f"
      },
      "outputs": [],
      "source": [
        "V = (R - 2 * E) / S # The formula in Python Statement"
      ]
    },
    {
      "cell_type": "code",
      "execution_count": null,
      "id": "446f296b-863c-448b-a983-0e444fd88a28",
      "metadata": {
        "id": "446f296b-863c-448b-a983-0e444fd88a28",
        "outputId": "9b0cae78-f1c2-4d6c-b0bb-a70ccb67987a"
      },
      "outputs": [
        {
          "name": "stdout",
          "output_type": "stream",
          "text": [
            "You can fit 10.5 Grapevines in each row\n"
          ]
        }
      ],
      "source": [
        "print('You can fit', V, 'Grapevines in each row')"
      ]
    },
    {
      "cell_type": "code",
      "execution_count": null,
      "id": "b8d5526d-05aa-4ad4-86ee-e4080bd7ac2b",
      "metadata": {
        "id": "b8d5526d-05aa-4ad4-86ee-e4080bd7ac2b"
      },
      "outputs": [],
      "source": [
        "# This should display the desired result!"
      ]
    }
  ],
  "metadata": {
    "kernelspec": {
      "display_name": "Python 3 (ipykernel)",
      "language": "python",
      "name": "python3"
    },
    "language_info": {
      "codemirror_mode": {
        "name": "ipython",
        "version": 3
      },
      "file_extension": ".py",
      "mimetype": "text/x-python",
      "name": "python",
      "nbconvert_exporter": "python",
      "pygments_lexer": "ipython3",
      "version": "3.11.7"
    },
    "colab": {
      "provenance": [],
      "include_colab_link": true
    }
  },
  "nbformat": 4,
  "nbformat_minor": 5
}